{
 "cells": [
  {
   "cell_type": "code",
   "execution_count": 2,
   "metadata": {},
   "outputs": [],
   "source": [
    "import numpy as np\n",
    "import pandas as pd"
   ]
  },
  {
   "cell_type": "markdown",
   "metadata": {},
   "source": [
    "### Day 1: The Tyranny of the Rocket Equation Part 1"
   ]
  },
  {
   "cell_type": "code",
   "execution_count": 5,
   "metadata": {},
   "outputs": [],
   "source": [
    "x = pd.read_csv('./datasets/Day 1 input.csv',header=None)"
   ]
  },
  {
   "cell_type": "code",
   "execution_count": 24,
   "metadata": {},
   "outputs": [
    {
     "data": {
      "text/html": [
       "<div>\n",
       "<style scoped>\n",
       "    .dataframe tbody tr th:only-of-type {\n",
       "        vertical-align: middle;\n",
       "    }\n",
       "\n",
       "    .dataframe tbody tr th {\n",
       "        vertical-align: top;\n",
       "    }\n",
       "\n",
       "    .dataframe thead th {\n",
       "        text-align: right;\n",
       "    }\n",
       "</style>\n",
       "<table border=\"1\" class=\"dataframe\">\n",
       "  <thead>\n",
       "    <tr style=\"text-align: right;\">\n",
       "      <th></th>\n",
       "      <th>0</th>\n",
       "    </tr>\n",
       "  </thead>\n",
       "  <tbody>\n",
       "    <tr>\n",
       "      <td>0</td>\n",
       "      <td>80590</td>\n",
       "    </tr>\n",
       "    <tr>\n",
       "      <td>1</td>\n",
       "      <td>86055</td>\n",
       "    </tr>\n",
       "    <tr>\n",
       "      <td>2</td>\n",
       "      <td>92321</td>\n",
       "    </tr>\n",
       "    <tr>\n",
       "      <td>3</td>\n",
       "      <td>131464</td>\n",
       "    </tr>\n",
       "    <tr>\n",
       "      <td>4</td>\n",
       "      <td>73326</td>\n",
       "    </tr>\n",
       "  </tbody>\n",
       "</table>\n",
       "</div>"
      ],
      "text/plain": [
       "        0\n",
       "0   80590\n",
       "1   86055\n",
       "2   92321\n",
       "3  131464\n",
       "4   73326"
      ]
     },
     "execution_count": 24,
     "metadata": {},
     "output_type": "execute_result"
    }
   ],
   "source": [
    "x.head()"
   ]
  },
  {
   "cell_type": "code",
   "execution_count": 17,
   "metadata": {},
   "outputs": [],
   "source": [
    "def fuel_requirements(data):\n",
    "    total_fuel = 0\n",
    "    for n in data:\n",
    "        total_fuel += n//3 - 2\n",
    "    return total_fuel    "
   ]
  },
  {
   "cell_type": "code",
   "execution_count": 20,
   "metadata": {},
   "outputs": [
    {
     "data": {
      "text/plain": [
       "34237"
      ]
     },
     "execution_count": 20,
     "metadata": {},
     "output_type": "execute_result"
    }
   ],
   "source": [
    "fuel_requirements([1969,100756]"
   ]
  },
  {
   "cell_type": "code",
   "execution_count": 22,
   "metadata": {},
   "outputs": [
    {
     "data": {
      "text/plain": [
       "3285627"
      ]
     },
     "execution_count": 22,
     "metadata": {},
     "output_type": "execute_result"
    }
   ],
   "source": [
    "fuel_requirements(x[0])"
   ]
  },
  {
   "cell_type": "markdown",
   "metadata": {},
   "source": [
    "### Day 1: The Tyranny of the Rocket Equation Part 2"
   ]
  },
  {
   "cell_type": "code",
   "execution_count": 63,
   "metadata": {},
   "outputs": [],
   "source": [
    "def fuel_requirements_2(data):\n",
    "    total_fuel = 0\n",
    "    for n in data:\n",
    "        n_fuel = 0\n",
    "        b = n//3 - 2\n",
    "        while b > 0:\n",
    "            n_fuel += b\n",
    "            b = b//3 - 2  \n",
    "        total_fuel += n_fuel        \n",
    "    return total_fuel   "
   ]
  },
  {
   "cell_type": "code",
   "execution_count": 64,
   "metadata": {},
   "outputs": [
    {
     "data": {
      "text/plain": [
       "51312"
      ]
     },
     "execution_count": 64,
     "metadata": {},
     "output_type": "execute_result"
    }
   ],
   "source": [
    "fuel_requirements_2([100756,1969])"
   ]
  },
  {
   "cell_type": "code",
   "execution_count": 65,
   "metadata": {},
   "outputs": [
    {
     "data": {
      "text/plain": [
       "4925580"
      ]
     },
     "execution_count": 65,
     "metadata": {},
     "output_type": "execute_result"
    }
   ],
   "source": [
    "fuel_requirements_2(x[0])"
   ]
  },
  {
   "cell_type": "markdown",
   "metadata": {},
   "source": [
    "### Day 2: 1202 Program Alarm Part 1"
   ]
  },
  {
   "cell_type": "code",
   "execution_count": 875,
   "metadata": {},
   "outputs": [],
   "source": [
    "x_2 = pd.read_csv('./datasets/Day 2 input.csv', header=None)\n",
    "x_2[0][1] = 12\n",
    "x_2[0][2] = 2\n",
    "\n",
    "def program_alarm(data):\n",
    "    op_code_index = 0\n",
    "    while data[op_code_index] != 99:\n",
    "        op_code = data[op_code_index]\n",
    "        a = data[op_code_index+1]\n",
    "        b = data[op_code_index+2]\n",
    "        c = data[op_code_index+3]\n",
    "        if op_code == 1:\n",
    "            data[c] = data[a]+data[b]\n",
    "        elif op_code == 2:\n",
    "            data[c] = data[a]*data[b]\n",
    "        else:\n",
    "            print('something went wrong')\n",
    "        op_code_index += 4\n",
    "    return data      "
   ]
  },
  {
   "cell_type": "code",
   "execution_count": 876,
   "metadata": {},
   "outputs": [
    {
     "data": {
      "text/plain": [
       "[30, 1, 1, 4, 2, 5, 6, 0, 99]"
      ]
     },
     "execution_count": 876,
     "metadata": {},
     "output_type": "execute_result"
    }
   ],
   "source": [
    "program_alarm([1,1,1,4,99,5,6,0,99])"
   ]
  },
  {
   "cell_type": "code",
   "execution_count": 877,
   "metadata": {},
   "outputs": [],
   "source": [
    "hello = program_alarm(x_2[0])"
   ]
  },
  {
   "cell_type": "code",
   "execution_count": 344,
   "metadata": {},
   "outputs": [
    {
     "data": {
      "text/html": [
       "<div>\n",
       "<style scoped>\n",
       "    .dataframe tbody tr th:only-of-type {\n",
       "        vertical-align: middle;\n",
       "    }\n",
       "\n",
       "    .dataframe tbody tr th {\n",
       "        vertical-align: top;\n",
       "    }\n",
       "\n",
       "    .dataframe thead th {\n",
       "        text-align: right;\n",
       "    }\n",
       "</style>\n",
       "<table border=\"1\" class=\"dataframe\">\n",
       "  <thead>\n",
       "    <tr style=\"text-align: right;\">\n",
       "      <th></th>\n",
       "      <th>0</th>\n",
       "    </tr>\n",
       "  </thead>\n",
       "  <tbody>\n",
       "    <tr>\n",
       "      <td>0</td>\n",
       "      <td>1</td>\n",
       "    </tr>\n",
       "    <tr>\n",
       "      <td>1</td>\n",
       "      <td>12</td>\n",
       "    </tr>\n",
       "    <tr>\n",
       "      <td>2</td>\n",
       "      <td>2</td>\n",
       "    </tr>\n",
       "    <tr>\n",
       "      <td>3</td>\n",
       "      <td>3</td>\n",
       "    </tr>\n",
       "    <tr>\n",
       "      <td>4</td>\n",
       "      <td>1</td>\n",
       "    </tr>\n",
       "    <tr>\n",
       "      <td>...</td>\n",
       "      <td>...</td>\n",
       "    </tr>\n",
       "    <tr>\n",
       "      <td>112</td>\n",
       "      <td>99</td>\n",
       "    </tr>\n",
       "    <tr>\n",
       "      <td>113</td>\n",
       "      <td>2</td>\n",
       "    </tr>\n",
       "    <tr>\n",
       "      <td>114</td>\n",
       "      <td>0</td>\n",
       "    </tr>\n",
       "    <tr>\n",
       "      <td>115</td>\n",
       "      <td>14</td>\n",
       "    </tr>\n",
       "    <tr>\n",
       "      <td>116</td>\n",
       "      <td>0</td>\n",
       "    </tr>\n",
       "  </tbody>\n",
       "</table>\n",
       "<p>117 rows × 1 columns</p>\n",
       "</div>"
      ],
      "text/plain": [
       "      0\n",
       "0     1\n",
       "1    12\n",
       "2     2\n",
       "3     3\n",
       "4     1\n",
       "..   ..\n",
       "112  99\n",
       "113   2\n",
       "114   0\n",
       "115  14\n",
       "116   0\n",
       "\n",
       "[117 rows x 1 columns]"
      ]
     },
     "execution_count": 344,
     "metadata": {},
     "output_type": "execute_result"
    }
   ],
   "source": [
    "x_2"
   ]
  },
  {
   "cell_type": "markdown",
   "metadata": {},
   "source": [
    "### Day 2: 1202 Program Alarm Part 2"
   ]
  },
  {
   "cell_type": "code",
   "execution_count": null,
   "metadata": {},
   "outputs": [],
   "source": [
    "x_2a = pd.read_csv('./datasets/Day 2 input.csv', header=None)"
   ]
  },
  {
   "cell_type": "code",
   "execution_count": 883,
   "metadata": {},
   "outputs": [
    {
     "data": {
      "text/html": [
       "<div>\n",
       "<style scoped>\n",
       "    .dataframe tbody tr th:only-of-type {\n",
       "        vertical-align: middle;\n",
       "    }\n",
       "\n",
       "    .dataframe tbody tr th {\n",
       "        vertical-align: top;\n",
       "    }\n",
       "\n",
       "    .dataframe thead th {\n",
       "        text-align: right;\n",
       "    }\n",
       "</style>\n",
       "<table border=\"1\" class=\"dataframe\">\n",
       "  <thead>\n",
       "    <tr style=\"text-align: right;\">\n",
       "      <th></th>\n",
       "      <th>0</th>\n",
       "    </tr>\n",
       "  </thead>\n",
       "  <tbody>\n",
       "    <tr>\n",
       "      <td>0</td>\n",
       "      <td>1</td>\n",
       "    </tr>\n",
       "    <tr>\n",
       "      <td>1</td>\n",
       "      <td>0</td>\n",
       "    </tr>\n",
       "    <tr>\n",
       "      <td>2</td>\n",
       "      <td>0</td>\n",
       "    </tr>\n",
       "    <tr>\n",
       "      <td>3</td>\n",
       "      <td>3</td>\n",
       "    </tr>\n",
       "    <tr>\n",
       "      <td>4</td>\n",
       "      <td>1</td>\n",
       "    </tr>\n",
       "  </tbody>\n",
       "</table>\n",
       "</div>"
      ],
      "text/plain": [
       "   0\n",
       "0  1\n",
       "1  0\n",
       "2  0\n",
       "3  3\n",
       "4  1"
      ]
     },
     "execution_count": 883,
     "metadata": {},
     "output_type": "execute_result"
    }
   ],
   "source": [
    "x_2a.head()"
   ]
  },
  {
   "cell_type": "code",
   "execution_count": null,
   "metadata": {},
   "outputs": [],
   "source": [
    "data[0] == 19690720"
   ]
  },
  {
   "cell_type": "code",
   "execution_count": 891,
   "metadata": {},
   "outputs": [],
   "source": [
    "def find_inputs(data):\n",
    "    \n",
    "    counter = 0\n",
    "    new_data = []\n",
    "    \n",
    "    for noun in range(0,100):\n",
    "        for verb in range(0,100):\n",
    "            \n",
    "            memory = data.copy()\n",
    "            counter += 1\n",
    "            memory[0][1] = noun\n",
    "            memory[0][2] = verb\n",
    "            new_data = program_alarm(memory[0])\n",
    "            \n",
    "            if new_data[0] == 19690720:\n",
    "                print(\"noun is \" + str(noun))\n",
    "                print(\"verb is \" + str(verb))\n",
    "                print(\"answer is \" + str(100*noun + verb))\n",
    "                break\n",
    "            else:\n",
    "                pass\n",
    "           "
   ]
  },
  {
   "cell_type": "code",
   "execution_count": 892,
   "metadata": {},
   "outputs": [
    {
     "name": "stdout",
     "output_type": "stream",
     "text": [
      "noun is 54\n",
      "verb is 85\n",
      "answer is 5485\n"
     ]
    }
   ],
   "source": [
    "find_inputs(x_2a)"
   ]
  },
  {
   "cell_type": "markdown",
   "metadata": {},
   "source": [
    "### Day 3: Crossed Wires Part 1"
   ]
  },
  {
   "cell_type": "code",
   "execution_count": 557,
   "metadata": {},
   "outputs": [],
   "source": [
    "import matplotlib.pyplot as plt\n",
    "\n",
    "plt.style.use('fivethirtyeight')\n",
    "%matplotlib inline"
   ]
  },
  {
   "cell_type": "code",
   "execution_count": 518,
   "metadata": {},
   "outputs": [],
   "source": [
    "x_3 = pd.read_csv('./datasets/Day 3 input.csv', header=None)"
   ]
  },
  {
   "cell_type": "code",
   "execution_count": 491,
   "metadata": {},
   "outputs": [
    {
     "data": {
      "text/html": [
       "<div>\n",
       "<style scoped>\n",
       "    .dataframe tbody tr th:only-of-type {\n",
       "        vertical-align: middle;\n",
       "    }\n",
       "\n",
       "    .dataframe tbody tr th {\n",
       "        vertical-align: top;\n",
       "    }\n",
       "\n",
       "    .dataframe thead th {\n",
       "        text-align: right;\n",
       "    }\n",
       "</style>\n",
       "<table border=\"1\" class=\"dataframe\">\n",
       "  <thead>\n",
       "    <tr style=\"text-align: right;\">\n",
       "      <th></th>\n",
       "      <th>0</th>\n",
       "      <th>1</th>\n",
       "    </tr>\n",
       "  </thead>\n",
       "  <tbody>\n",
       "    <tr>\n",
       "      <td>0</td>\n",
       "      <td>R997</td>\n",
       "      <td>L991</td>\n",
       "    </tr>\n",
       "    <tr>\n",
       "      <td>1</td>\n",
       "      <td>D443</td>\n",
       "      <td>D492</td>\n",
       "    </tr>\n",
       "    <tr>\n",
       "      <td>2</td>\n",
       "      <td>L406</td>\n",
       "      <td>L167</td>\n",
       "    </tr>\n",
       "    <tr>\n",
       "      <td>3</td>\n",
       "      <td>D393</td>\n",
       "      <td>D678</td>\n",
       "    </tr>\n",
       "    <tr>\n",
       "      <td>4</td>\n",
       "      <td>L66</td>\n",
       "      <td>L228</td>\n",
       "    </tr>\n",
       "  </tbody>\n",
       "</table>\n",
       "</div>"
      ],
      "text/plain": [
       "      0     1\n",
       "0  R997  L991\n",
       "1  D443  D492\n",
       "2  L406  L167\n",
       "3  D393  D678\n",
       "4   L66  L228"
      ]
     },
     "execution_count": 491,
     "metadata": {},
     "output_type": "execute_result"
    }
   ],
   "source": [
    "x_3.head()"
   ]
  },
  {
   "cell_type": "code",
   "execution_count": 586,
   "metadata": {},
   "outputs": [],
   "source": [
    "#start at 0,0\n",
    "#create co-ordinates\n",
    "#plot co-ordinates for each line\n",
    "#find closest intersection      "
   ]
  },
  {
   "cell_type": "code",
   "execution_count": 530,
   "metadata": {},
   "outputs": [
    {
     "data": {
      "text/plain": [
       "997"
      ]
     },
     "execution_count": 530,
     "metadata": {},
     "output_type": "execute_result"
    }
   ],
   "source": [
    "int(x_3[0][0][1:])"
   ]
  },
  {
   "cell_type": "code",
   "execution_count": 598,
   "metadata": {},
   "outputs": [],
   "source": [
    "def create_coords(data):\n",
    "    coord_list = []\n",
    "    co_ords = [0,0]\n",
    "    for i in data:\n",
    "        n = 1\n",
    "        while n <= int(i[1:]):\n",
    "            \n",
    "            if i[0] == 'R':                          #positive in x co-ord\n",
    "                co_ords[0] += 1\n",
    "            \n",
    "            elif i[0] == 'U':                        #positivs in y co-ord\n",
    "                co_ords[1] += 1\n",
    "            \n",
    "            elif i[0] == 'L':                        #negative in x co-ord\n",
    "                co_ords[0] -= 1\n",
    "           \n",
    "            else:                                    #negative in y co-ord\n",
    "                co_ords[1] -= 1\n",
    "                \n",
    "            coord_list.extend(co_ords)\n",
    "            n += 1\n",
    "    return coord_list     "
   ]
  },
  {
   "cell_type": "code",
   "execution_count": 599,
   "metadata": {},
   "outputs": [
    {
     "data": {
      "text/plain": [
       "[1, 0, 2, 0, 3, 0, 4, 0, 5, 0]"
      ]
     },
     "execution_count": 599,
     "metadata": {},
     "output_type": "execute_result"
    }
   ],
   "source": [
    "create_coords(x_3[0])[0:10]"
   ]
  },
  {
   "cell_type": "code",
   "execution_count": 600,
   "metadata": {},
   "outputs": [],
   "source": [
    "line_1_x = create_coords(x_3[0])[::2]\n",
    "line_1_y = create_coords(x_3[0])[1::2]\n",
    "line_2_x = create_coords(x_3[1])[::2]\n",
    "line_2_y = create_coords(x_3[1])[1::2]"
   ]
  },
  {
   "cell_type": "code",
   "execution_count": 639,
   "metadata": {},
   "outputs": [
    {
     "data": {
      "text/plain": [
       "74"
      ]
     },
     "execution_count": 639,
     "metadata": {},
     "output_type": "execute_result"
    }
   ],
   "source": [
    "len(set(zip(line_1_x, line_1_y)) & set(zip(line_2_x, line_2_y)))"
   ]
  },
  {
   "cell_type": "code",
   "execution_count": 612,
   "metadata": {},
   "outputs": [
    {
     "name": "stdout",
     "output_type": "stream",
     "text": [
      "232\n"
     ]
    }
   ],
   "source": [
    "b = 1000\n",
    "for i in set(zip(line_1_x, line_1_y)) & set(zip(line_2_x, line_2_y)):\n",
    "    n = abs(i[0]) + abs(i[1])\n",
    "    if n < b:\n",
    "        b = n\n",
    "print(b)    "
   ]
  },
  {
   "cell_type": "code",
   "execution_count": 604,
   "metadata": {},
   "outputs": [
    {
     "data": {
      "text/plain": [
       "(155678, 4)"
      ]
     },
     "execution_count": 604,
     "metadata": {},
     "output_type": "execute_result"
    }
   ],
   "source": [
    "coords = pd.DataFrame(data = [line_1_x,line_1_y,line_2_x,line_2_y]).T\n",
    "coords.rename(columns = {0:'x_1',1:'y_1',2:'x_2',3:'y_2'},inplace=True)\n",
    "coords.shape"
   ]
  },
  {
   "cell_type": "code",
   "execution_count": 605,
   "metadata": {},
   "outputs": [
    {
     "data": {
      "text/plain": [
       "<matplotlib.axes._subplots.AxesSubplot at 0x10aa9c250>"
      ]
     },
     "execution_count": 605,
     "metadata": {},
     "output_type": "execute_result"
    },
    {
     "data": {
      "image/png": "[encoded data removed]",
      "text/plain": [
       "<Figure size 1440x1440 with 1 Axes>"
      ]
     },
     "metadata": {
      "needs_background": "light"
     },
     "output_type": "display_data"
    }
   ],
   "source": [
    "ax = coords.plot(kind = 'line', x='x_1', y='y_1',linewidth = 1, color = 'red',figsize = (20,20))\n",
    "coords.plot(kind = 'line', x='x_2', y='y_2',linewidth = 1, color = 'blue', ax=ax)\n"
   ]
  },
  {
   "cell_type": "markdown",
   "metadata": {},
   "source": [
    "### Day 3: Crossed Wires Part 2"
   ]
  },
  {
   "cell_type": "code",
   "execution_count": 619,
   "metadata": {},
   "outputs": [],
   "source": [
    "def create_steps(data):\n",
    "    coord_list = []\n",
    "    co_ords = [0,0]\n",
    "    steps = 1\n",
    "    for i in data:\n",
    "        n = 1\n",
    "        while n <= int(i[1:]):\n",
    "            if i[0] == 'R':                          #positive in x co-ord\n",
    "                co_ords[0] += 1\n",
    "            \n",
    "            elif i[0] == 'U':                        #positivs in y co-ord\n",
    "                co_ords[1] += 1\n",
    "            \n",
    "            elif i[0] == 'L':                        #negative in x co-ord\n",
    "                co_ords[0] -= 1\n",
    "           \n",
    "            else:                                    #negative in y co-ord\n",
    "                co_ords[1] -= 1\n",
    "                \n",
    "            coord_list.extend(co_ords)\n",
    "            coord_list.append(steps)\n",
    "            n += 1\n",
    "            steps += 1\n",
    "    return coord_list     "
   ]
  },
  {
   "cell_type": "code",
   "execution_count": 620,
   "metadata": {},
   "outputs": [
    {
     "data": {
      "text/plain": [
       "[1, 0, 1, 2, 0, 2, 3, 0, 3, 4]"
      ]
     },
     "execution_count": 620,
     "metadata": {},
     "output_type": "execute_result"
    }
   ],
   "source": [
    "create_steps(x_3[0])[0:10]"
   ]
  },
  {
   "cell_type": "code",
   "execution_count": 627,
   "metadata": {},
   "outputs": [],
   "source": [
    "line_1_x = create_steps(x_3[0])[::3]\n",
    "line_1_y = create_steps(x_3[0])[1::3]\n",
    "line_1_steps = create_steps(x_3[0])[2::3]\n",
    "line_2_x = create_steps(x_3[1])[::3]\n",
    "line_2_y = create_steps(x_3[1])[1::3]\n",
    "line_2_steps = create_steps(x_3[1])[2::3]"
   ]
  },
  {
   "cell_type": "code",
   "execution_count": 642,
   "metadata": {},
   "outputs": [],
   "source": [
    "coords_1 = pd.DataFrame(data = [line_1_x,line_1_y,line_1_steps]).T\n",
    "coords_1.rename(columns = {0:'x',1:'y',2:'steps_1'},inplace=True) "
   ]
  },
  {
   "cell_type": "code",
   "execution_count": 643,
   "metadata": {},
   "outputs": [
    {
     "data": {
      "text/html": [
       "<div>\n",
       "<style scoped>\n",
       "    .dataframe tbody tr th:only-of-type {\n",
       "        vertical-align: middle;\n",
       "    }\n",
       "\n",
       "    .dataframe tbody tr th {\n",
       "        vertical-align: top;\n",
       "    }\n",
       "\n",
       "    .dataframe thead th {\n",
       "        text-align: right;\n",
       "    }\n",
       "</style>\n",
       "<table border=\"1\" class=\"dataframe\">\n",
       "  <thead>\n",
       "    <tr style=\"text-align: right;\">\n",
       "      <th></th>\n",
       "      <th>x</th>\n",
       "      <th>y</th>\n",
       "      <th>steps_1</th>\n",
       "    </tr>\n",
       "  </thead>\n",
       "  <tbody>\n",
       "    <tr>\n",
       "      <td>0</td>\n",
       "      <td>1</td>\n",
       "      <td>0</td>\n",
       "      <td>1</td>\n",
       "    </tr>\n",
       "    <tr>\n",
       "      <td>1</td>\n",
       "      <td>2</td>\n",
       "      <td>0</td>\n",
       "      <td>2</td>\n",
       "    </tr>\n",
       "    <tr>\n",
       "      <td>2</td>\n",
       "      <td>3</td>\n",
       "      <td>0</td>\n",
       "      <td>3</td>\n",
       "    </tr>\n",
       "    <tr>\n",
       "      <td>3</td>\n",
       "      <td>4</td>\n",
       "      <td>0</td>\n",
       "      <td>4</td>\n",
       "    </tr>\n",
       "    <tr>\n",
       "      <td>4</td>\n",
       "      <td>5</td>\n",
       "      <td>0</td>\n",
       "      <td>5</td>\n",
       "    </tr>\n",
       "  </tbody>\n",
       "</table>\n",
       "</div>"
      ],
      "text/plain": [
       "   x  y  steps_1\n",
       "0  1  0        1\n",
       "1  2  0        2\n",
       "2  3  0        3\n",
       "3  4  0        4\n",
       "4  5  0        5"
      ]
     },
     "execution_count": 643,
     "metadata": {},
     "output_type": "execute_result"
    }
   ],
   "source": [
    "coords_1.head(5)"
   ]
  },
  {
   "cell_type": "code",
   "execution_count": 644,
   "metadata": {},
   "outputs": [],
   "source": [
    "coords_2 = pd.DataFrame(data = [line_2_x,line_2_y,line_2_steps]).T\n",
    "coords_2.rename(columns = {0:'x',1:'y',2:'steps_2'},inplace=True) "
   ]
  },
  {
   "cell_type": "code",
   "execution_count": 645,
   "metadata": {},
   "outputs": [
    {
     "data": {
      "text/html": [
       "<div>\n",
       "<style scoped>\n",
       "    .dataframe tbody tr th:only-of-type {\n",
       "        vertical-align: middle;\n",
       "    }\n",
       "\n",
       "    .dataframe tbody tr th {\n",
       "        vertical-align: top;\n",
       "    }\n",
       "\n",
       "    .dataframe thead th {\n",
       "        text-align: right;\n",
       "    }\n",
       "</style>\n",
       "<table border=\"1\" class=\"dataframe\">\n",
       "  <thead>\n",
       "    <tr style=\"text-align: right;\">\n",
       "      <th></th>\n",
       "      <th>x</th>\n",
       "      <th>y</th>\n",
       "      <th>steps_2</th>\n",
       "    </tr>\n",
       "  </thead>\n",
       "  <tbody>\n",
       "    <tr>\n",
       "      <td>0</td>\n",
       "      <td>-1</td>\n",
       "      <td>0</td>\n",
       "      <td>1</td>\n",
       "    </tr>\n",
       "    <tr>\n",
       "      <td>1</td>\n",
       "      <td>-2</td>\n",
       "      <td>0</td>\n",
       "      <td>2</td>\n",
       "    </tr>\n",
       "    <tr>\n",
       "      <td>2</td>\n",
       "      <td>-3</td>\n",
       "      <td>0</td>\n",
       "      <td>3</td>\n",
       "    </tr>\n",
       "    <tr>\n",
       "      <td>3</td>\n",
       "      <td>-4</td>\n",
       "      <td>0</td>\n",
       "      <td>4</td>\n",
       "    </tr>\n",
       "    <tr>\n",
       "      <td>4</td>\n",
       "      <td>-5</td>\n",
       "      <td>0</td>\n",
       "      <td>5</td>\n",
       "    </tr>\n",
       "  </tbody>\n",
       "</table>\n",
       "</div>"
      ],
      "text/plain": [
       "   x  y  steps_2\n",
       "0 -1  0        1\n",
       "1 -2  0        2\n",
       "2 -3  0        3\n",
       "3 -4  0        4\n",
       "4 -5  0        5"
      ]
     },
     "execution_count": 645,
     "metadata": {},
     "output_type": "execute_result"
    }
   ],
   "source": [
    "coords_2.head(5)"
   ]
  },
  {
   "cell_type": "code",
   "execution_count": 649,
   "metadata": {},
   "outputs": [
    {
     "data": {
      "text/html": [
       "<div>\n",
       "<style scoped>\n",
       "    .dataframe tbody tr th:only-of-type {\n",
       "        vertical-align: middle;\n",
       "    }\n",
       "\n",
       "    .dataframe tbody tr th {\n",
       "        vertical-align: top;\n",
       "    }\n",
       "\n",
       "    .dataframe thead th {\n",
       "        text-align: right;\n",
       "    }\n",
       "</style>\n",
       "<table border=\"1\" class=\"dataframe\">\n",
       "  <thead>\n",
       "    <tr style=\"text-align: right;\">\n",
       "      <th></th>\n",
       "      <th>x</th>\n",
       "      <th>y</th>\n",
       "      <th>steps_1</th>\n",
       "      <th>steps_2</th>\n",
       "    </tr>\n",
       "  </thead>\n",
       "  <tbody>\n",
       "    <tr>\n",
       "      <td>0</td>\n",
       "      <td>486</td>\n",
       "      <td>0</td>\n",
       "      <td>486</td>\n",
       "      <td>5598</td>\n",
       "    </tr>\n",
       "    <tr>\n",
       "      <td>1</td>\n",
       "      <td>629</td>\n",
       "      <td>0</td>\n",
       "      <td>629</td>\n",
       "      <td>32535</td>\n",
       "    </tr>\n",
       "    <tr>\n",
       "      <td>2</td>\n",
       "      <td>815</td>\n",
       "      <td>0</td>\n",
       "      <td>815</td>\n",
       "      <td>6305</td>\n",
       "    </tr>\n",
       "    <tr>\n",
       "      <td>3</td>\n",
       "      <td>815</td>\n",
       "      <td>-443</td>\n",
       "      <td>1622</td>\n",
       "      <td>6748</td>\n",
       "    </tr>\n",
       "    <tr>\n",
       "      <td>4</td>\n",
       "      <td>-414</td>\n",
       "      <td>-253</td>\n",
       "      <td>4543</td>\n",
       "      <td>4445</td>\n",
       "    </tr>\n",
       "  </tbody>\n",
       "</table>\n",
       "</div>"
      ],
      "text/plain": [
       "     x    y  steps_1  steps_2\n",
       "0  486    0      486     5598\n",
       "1  629    0      629    32535\n",
       "2  815    0      815     6305\n",
       "3  815 -443     1622     6748\n",
       "4 -414 -253     4543     4445"
      ]
     },
     "execution_count": 649,
     "metadata": {},
     "output_type": "execute_result"
    }
   ],
   "source": [
    "steps = coords_1.merge(coords_2, how = 'inner', on = ['x', 'y'])\n",
    "steps.head()"
   ]
  },
  {
   "cell_type": "code",
   "execution_count": 651,
   "metadata": {},
   "outputs": [],
   "source": [
    "steps['total'] = steps['steps_1'] + steps['steps_2']"
   ]
  },
  {
   "cell_type": "code",
   "execution_count": 653,
   "metadata": {},
   "outputs": [
    {
     "data": {
      "text/html": [
       "<div>\n",
       "<style scoped>\n",
       "    .dataframe tbody tr th:only-of-type {\n",
       "        vertical-align: middle;\n",
       "    }\n",
       "\n",
       "    .dataframe tbody tr th {\n",
       "        vertical-align: top;\n",
       "    }\n",
       "\n",
       "    .dataframe thead th {\n",
       "        text-align: right;\n",
       "    }\n",
       "</style>\n",
       "<table border=\"1\" class=\"dataframe\">\n",
       "  <thead>\n",
       "    <tr style=\"text-align: right;\">\n",
       "      <th></th>\n",
       "      <th>x</th>\n",
       "      <th>y</th>\n",
       "      <th>steps_1</th>\n",
       "      <th>steps_2</th>\n",
       "      <th>total</th>\n",
       "    </tr>\n",
       "  </thead>\n",
       "  <tbody>\n",
       "    <tr>\n",
       "      <td>0</td>\n",
       "      <td>486</td>\n",
       "      <td>0</td>\n",
       "      <td>486</td>\n",
       "      <td>5598</td>\n",
       "      <td>6084</td>\n",
       "    </tr>\n",
       "    <tr>\n",
       "      <td>5</td>\n",
       "      <td>-991</td>\n",
       "      <td>-253</td>\n",
       "      <td>5120</td>\n",
       "      <td>1244</td>\n",
       "      <td>6364</td>\n",
       "    </tr>\n",
       "    <tr>\n",
       "      <td>2</td>\n",
       "      <td>815</td>\n",
       "      <td>0</td>\n",
       "      <td>815</td>\n",
       "      <td>6305</td>\n",
       "      <td>7120</td>\n",
       "    </tr>\n",
       "    <tr>\n",
       "      <td>7</td>\n",
       "      <td>-1158</td>\n",
       "      <td>-655</td>\n",
       "      <td>5859</td>\n",
       "      <td>1813</td>\n",
       "      <td>7672</td>\n",
       "    </tr>\n",
       "    <tr>\n",
       "      <td>12</td>\n",
       "      <td>-991</td>\n",
       "      <td>-61</td>\n",
       "      <td>7226</td>\n",
       "      <td>1052</td>\n",
       "      <td>8278</td>\n",
       "    </tr>\n",
       "    <tr>\n",
       "      <td>...</td>\n",
       "      <td>...</td>\n",
       "      <td>...</td>\n",
       "      <td>...</td>\n",
       "      <td>...</td>\n",
       "      <td>...</td>\n",
       "    </tr>\n",
       "    <tr>\n",
       "      <td>13</td>\n",
       "      <td>-995</td>\n",
       "      <td>-434</td>\n",
       "      <td>8513</td>\n",
       "      <td>73339</td>\n",
       "      <td>81852</td>\n",
       "    </tr>\n",
       "    <tr>\n",
       "      <td>54</td>\n",
       "      <td>278</td>\n",
       "      <td>1577</td>\n",
       "      <td>43293</td>\n",
       "      <td>47429</td>\n",
       "      <td>90722</td>\n",
       "    </tr>\n",
       "    <tr>\n",
       "      <td>55</td>\n",
       "      <td>783</td>\n",
       "      <td>1076</td>\n",
       "      <td>44981</td>\n",
       "      <td>48435</td>\n",
       "      <td>93416</td>\n",
       "    </tr>\n",
       "    <tr>\n",
       "      <td>70</td>\n",
       "      <td>1060</td>\n",
       "      <td>1133</td>\n",
       "      <td>48719</td>\n",
       "      <td>48769</td>\n",
       "      <td>97488</td>\n",
       "    </tr>\n",
       "    <tr>\n",
       "      <td>71</td>\n",
       "      <td>1060</td>\n",
       "      <td>1666</td>\n",
       "      <td>50000</td>\n",
       "      <td>49302</td>\n",
       "      <td>99302</td>\n",
       "    </tr>\n",
       "  </tbody>\n",
       "</table>\n",
       "<p>74 rows × 5 columns</p>\n",
       "</div>"
      ],
      "text/plain": [
       "       x     y  steps_1  steps_2  total\n",
       "0    486     0      486     5598   6084\n",
       "5   -991  -253     5120     1244   6364\n",
       "2    815     0      815     6305   7120\n",
       "7  -1158  -655     5859     1813   7672\n",
       "12  -991   -61     7226     1052   8278\n",
       "..   ...   ...      ...      ...    ...\n",
       "13  -995  -434     8513    73339  81852\n",
       "54   278  1577    43293    47429  90722\n",
       "55   783  1076    44981    48435  93416\n",
       "70  1060  1133    48719    48769  97488\n",
       "71  1060  1666    50000    49302  99302\n",
       "\n",
       "[74 rows x 5 columns]"
      ]
     },
     "execution_count": 653,
     "metadata": {},
     "output_type": "execute_result"
    }
   ],
   "source": [
    "steps.sort_values(by='total')"
   ]
  },
  {
   "cell_type": "markdown",
   "metadata": {},
   "source": [
    "### Day 4: Secure Container Part 1"
   ]
  },
  {
   "cell_type": "code",
   "execution_count": null,
   "metadata": {},
   "outputs": [],
   "source": [
    "153517-630395"
   ]
  },
  {
   "cell_type": "code",
   "execution_count": null,
   "metadata": {},
   "outputs": [],
   "source": [
    "# Two adjacent digits are the same (like 22 in 122345).\n",
    "# Going from left to right, the digits never decrease; they only ever increase or stay the same (like 111123 or 135679)."
   ]
  },
  {
   "cell_type": "code",
   "execution_count": 705,
   "metadata": {},
   "outputs": [
    {
     "name": "stdout",
     "output_type": "stream",
     "text": [
      "1729\n"
     ]
    }
   ],
   "source": [
    "a = []\n",
    "for n in range(153517,630395):\n",
    "    b = str(n)\n",
    "    count = 0\n",
    "    double = 0\n",
    "    triple = 0\n",
    "    \n",
    "    for i in range(0,5):\n",
    "        if b[i] > b[i+1]:\n",
    "            count += 1\n",
    "        elif b[i] == b[i+1]:\n",
    "            double += 1\n",
    "                \n",
    "    if count > 0:\n",
    "        continue\n",
    "    elif double == 0:\n",
    "        continue\n",
    "    else:    \n",
    "        a.append(b)\n",
    "        \n",
    "print(len(a))                "
   ]
  },
  {
   "cell_type": "markdown",
   "metadata": {},
   "source": [
    "### Day 4: Secure Container Part 2"
   ]
  },
  {
   "cell_type": "code",
   "execution_count": null,
   "metadata": {},
   "outputs": [],
   "source": [
    "range(153517,630395)"
   ]
  },
  {
   "cell_type": "markdown",
   "metadata": {},
   "source": [
    "Tried: 1151, 1434, 796, 568"
   ]
  },
  {
   "cell_type": "code",
   "execution_count": 871,
   "metadata": {},
   "outputs": [],
   "source": [
    "def count_pass(data):\n",
    "    f = []\n",
    "    for n in data:\n",
    "        b = str(n)\n",
    "        count = 0\n",
    "        double = 0\n",
    "        triple = 0\n",
    "    \n",
    "        for i in range(0,5):\n",
    "            if b[i] > b[i+1]:\n",
    "                count += 1\n",
    "              \n",
    "        for i in range(0,10):    \n",
    "            if b.count(str(i)) == 2:\n",
    "                double += 1\n",
    "                    \n",
    "        if count > 0:\n",
    "            continue\n",
    "        elif double == 0:\n",
    "            continue\n",
    "        else:    \n",
    "            f.append(b)         \n",
    "    print(len(f))\n",
    "#     print(f)"
   ]
  },
  {
   "cell_type": "code",
   "execution_count": 872,
   "metadata": {},
   "outputs": [
    {
     "name": "stdout",
     "output_type": "stream",
     "text": [
      "2\n"
     ]
    }
   ],
   "source": [
    "count_pass([112233,123444,111122])"
   ]
  },
  {
   "cell_type": "code",
   "execution_count": 873,
   "metadata": {},
   "outputs": [
    {
     "name": "stdout",
     "output_type": "stream",
     "text": [
      "1172\n"
     ]
    }
   ],
   "source": [
    "count_pass(range(153517,630395))"
   ]
  },
  {
   "cell_type": "markdown",
   "metadata": {},
   "source": [
    "### Day 5: Sunny with a Chance of Asteroids Part 1"
   ]
  },
  {
   "cell_type": "code",
   "execution_count": 125,
   "metadata": {},
   "outputs": [],
   "source": [
    "x_5 = pd.read_csv('./datasets/Day 5 input.csv', header=None)"
   ]
  },
  {
   "cell_type": "code",
   "execution_count": 284,
   "metadata": {},
   "outputs": [
    {
     "data": {
      "text/html": [
       "<div>\n",
       "<style scoped>\n",
       "    .dataframe tbody tr th:only-of-type {\n",
       "        vertical-align: middle;\n",
       "    }\n",
       "\n",
       "    .dataframe tbody tr th {\n",
       "        vertical-align: top;\n",
       "    }\n",
       "\n",
       "    .dataframe thead th {\n",
       "        text-align: right;\n",
       "    }\n",
       "</style>\n",
       "<table border=\"1\" class=\"dataframe\">\n",
       "  <thead>\n",
       "    <tr style=\"text-align: right;\">\n",
       "      <th></th>\n",
       "      <th>0</th>\n",
       "    </tr>\n",
       "  </thead>\n",
       "  <tbody>\n",
       "    <tr>\n",
       "      <td>0</td>\n",
       "      <td>3</td>\n",
       "    </tr>\n",
       "    <tr>\n",
       "      <td>1</td>\n",
       "      <td>225</td>\n",
       "    </tr>\n",
       "    <tr>\n",
       "      <td>2</td>\n",
       "      <td>1</td>\n",
       "    </tr>\n",
       "    <tr>\n",
       "      <td>3</td>\n",
       "      <td>225</td>\n",
       "    </tr>\n",
       "    <tr>\n",
       "      <td>4</td>\n",
       "      <td>6</td>\n",
       "    </tr>\n",
       "    <tr>\n",
       "      <td>5</td>\n",
       "      <td>6</td>\n",
       "    </tr>\n",
       "    <tr>\n",
       "      <td>6</td>\n",
       "      <td>1100</td>\n",
       "    </tr>\n",
       "    <tr>\n",
       "      <td>7</td>\n",
       "      <td>1</td>\n",
       "    </tr>\n",
       "    <tr>\n",
       "      <td>8</td>\n",
       "      <td>238</td>\n",
       "    </tr>\n",
       "    <tr>\n",
       "      <td>9</td>\n",
       "      <td>225</td>\n",
       "    </tr>\n",
       "  </tbody>\n",
       "</table>\n",
       "</div>"
      ],
      "text/plain": [
       "      0\n",
       "0     3\n",
       "1   225\n",
       "2     1\n",
       "3   225\n",
       "4     6\n",
       "5     6\n",
       "6  1100\n",
       "7     1\n",
       "8   238\n",
       "9   225"
      ]
     },
     "execution_count": 284,
     "metadata": {},
     "output_type": "execute_result"
    }
   ],
   "source": [
    "x_5.head(10)"
   ]
  },
  {
   "cell_type": "code",
   "execution_count": 285,
   "metadata": {},
   "outputs": [
    {
     "data": {
      "text/plain": [
       "(678, 1)"
      ]
     },
     "execution_count": 285,
     "metadata": {},
     "output_type": "execute_result"
    }
   ],
   "source": [
    "x_5.shape"
   ]
  },
  {
   "cell_type": "code",
   "execution_count": 286,
   "metadata": {},
   "outputs": [],
   "source": [
    "def diagnostic_program(data):\n",
    "    \n",
    "    input_value = int(input(\"Input system ID: \"))\n",
    "    op_code_index = 0 #instruction pointer\n",
    "    output = 0\n",
    "    \n",
    "    while str(data[op_code_index])[-2:] != '99':\n",
    "        \n",
    "        op_code = str(data[op_code_index])[-2:]  #op code number\n",
    "        A_mode = str(data[op_code_index])[-3:-2] #parameter one mode\n",
    "        B_mode = str(data[op_code_index])[-4:-3] #parameter two mode\n",
    "        C_mode = str(data[op_code_index])[-5:-4] #parameter three mode\n",
    "        \n",
    "        ### Parameter one\n",
    "        a = data[op_code_index+1]\n",
    "        \n",
    "        ### Instructions 3&4\n",
    "        if int(op_code) == 3:\n",
    "            data[a] = input_value\n",
    "            op_code_index += 2\n",
    "        elif int(op_code) == 4:\n",
    "            output = data[a]\n",
    "            op_code_index += 2\n",
    "            \n",
    "        ### mode adjustment\n",
    "        elif int(op_code) == 1 or 2:\n",
    "            \n",
    "            if A_mode != '1':                   #parameter one\n",
    "                a = data[data[op_code_index+1]]\n",
    "            try:\n",
    "                b = data[op_code_index+2]\n",
    "                c = data[op_code_index+3]\n",
    "                if B_mode != '1':               #parameter two\n",
    "                    b = data[data[op_code_index+2]]    \n",
    "            except IndexError as target:\n",
    "                pass\n",
    "            \n",
    "            ### Instructions 1&2\n",
    "            if int(op_code) == 1:\n",
    "                data[c] = a+b\n",
    "                op_code_index += 4  \n",
    "            \n",
    "            elif int(op_code) == 2:\n",
    "                data[c] = a*b\n",
    "                op_code_index += 4\n",
    "        else:\n",
    "            print('something went wrong')\n",
    "                        \n",
    "\n",
    "    print(output)\n"
   ]
  },
  {
   "cell_type": "code",
   "execution_count": 268,
   "metadata": {},
   "outputs": [
    {
     "data": {
      "text/plain": [
       "3"
      ]
     },
     "execution_count": 268,
     "metadata": {},
     "output_type": "execute_result"
    }
   ],
   "source": [
    "[3,0,4,0,99][[3,0,4,0,99][1]]"
   ]
  },
  {
   "cell_type": "code",
   "execution_count": 287,
   "metadata": {},
   "outputs": [
    {
     "name": "stdout",
     "output_type": "stream",
     "text": [
      "Input system ID: 10\n",
      "10\n"
     ]
    }
   ],
   "source": [
    "diagnostic_program([3,0,4,0,99])"
   ]
  },
  {
   "cell_type": "code",
   "execution_count": 288,
   "metadata": {},
   "outputs": [
    {
     "name": "stdout",
     "output_type": "stream",
     "text": [
      "Input system ID: 1\n",
      "13933662\n"
     ]
    }
   ],
   "source": [
    "diagnostic_program(x_5[0])"
   ]
  },
  {
   "cell_type": "markdown",
   "metadata": {},
   "source": [
    "### Day 5: Sunny with a Chance of Asteroids Part 2"
   ]
  },
  {
   "cell_type": "code",
   "execution_count": 137,
   "metadata": {},
   "outputs": [],
   "source": [
    "def intcode_computer(data, input_value):\n",
    "    \n",
    "#     input_value = int(input(\"Input system ID: \"))\n",
    "    op_code_index = 0 #instruction pointer\n",
    "    output = 0\n",
    "    \n",
    "    while str(data[op_code_index])[-2:] != '99':\n",
    "        \n",
    "        op_code = str(data[op_code_index])[-1:]  #op code number\n",
    "        A_mode = str(data[op_code_index])[-3:-2] #parameter one mode\n",
    "        B_mode = str(data[op_code_index])[-4:-3] #parameter two mode\n",
    "        C_mode = str(data[op_code_index])[-5:-4] #parameter three mode\n",
    "        \n",
    "        ### Parameter one\n",
    "        a = data[op_code_index+1]\n",
    "        \n",
    "        ### Instruction 3 is the only 'writing instruction so isn't affected by modes\n",
    "        if int(op_code) == 3:\n",
    "            data[a] = input_value\n",
    "            op_code_index += 2\n",
    "              \n",
    "        else:\n",
    "    \n",
    "            ### mode adjustments\n",
    "            if A_mode != '1':                   #parameter one\n",
    "                a = data[data[op_code_index+1]]\n",
    "            try:\n",
    "                b = data[op_code_index+2]\n",
    "                c = data[op_code_index+3]\n",
    "                if B_mode != '1':               #parameter two\n",
    "                    b = data[data[op_code_index+2]]    \n",
    "            except IndexError as target:\n",
    "                pass\n",
    "    \n",
    "            \n",
    "            ### Instructions 1, 2, 5, 6, 7, 8\n",
    "            if int(op_code) == 1:\n",
    "                data[c] = a+b\n",
    "                op_code_index += 4  \n",
    "            \n",
    "            elif int(op_code) == 2:\n",
    "                data[c] = a*b\n",
    "                op_code_index += 4 \n",
    "                \n",
    "            elif int(op_code) == 4:\n",
    "                output = a\n",
    "                op_code_index += 2   \n",
    "                \n",
    "            elif int(op_code) == 5:      \n",
    "                if a != 0:\n",
    "                    op_code_index = b\n",
    "                else:\n",
    "                    op_code_index += 3 \n",
    "                    \n",
    "            elif int(op_code) == 6:\n",
    "                if a == 0:\n",
    "                    op_code_index = b   \n",
    "                else:\n",
    "                    op_code_index += 3    \n",
    "                    \n",
    "            elif int(op_code) == 7:       \n",
    "                if a < b:\n",
    "                    data[c] = 1\n",
    "                else:\n",
    "                    data[c] = 0\n",
    "                op_code_index += 4\n",
    "                \n",
    "            elif int(op_code) == 8:    \n",
    "                if a == b:\n",
    "                    data[c] = 1\n",
    "                else:\n",
    "                    data[c] = 0    \n",
    "                op_code_index += 4\n",
    "                \n",
    "            else:\n",
    "                print('something went wrong')\n",
    "            \n",
    "#         print(op_code)\n",
    "#         print(op_code_index)\n",
    "#         print(data)\n",
    "    return output"
   ]
  },
  {
   "cell_type": "code",
   "execution_count": null,
   "metadata": {},
   "outputs": [],
   "source": [
    "test = [3,21,1008,21,8,20,1005,20,22,107,8,21,20,1006,20,31,\n",
    "1106,0,36,98,0,0,1002,21,125,20,4,20,1105,1,46,104,\n",
    "999,1105,1,46,1101,1000,1,20,4,20,1105,1,46,98,99]"
   ]
  },
  {
   "cell_type": "code",
   "execution_count": null,
   "metadata": {},
   "outputs": [],
   "source": [
    "test[test[8]]"
   ]
  },
  {
   "cell_type": "code",
   "execution_count": 138,
   "metadata": {},
   "outputs": [
    {
     "data": {
      "text/plain": [
       "999"
      ]
     },
     "execution_count": 138,
     "metadata": {},
     "output_type": "execute_result"
    }
   ],
   "source": [
    "intcode_computer(test,4)"
   ]
  },
  {
   "cell_type": "code",
   "execution_count": 126,
   "metadata": {},
   "outputs": [
    {
     "name": "stdout",
     "output_type": "stream",
     "text": [
      "Input system ID: 5\n",
      "2369720\n"
     ]
    }
   ],
   "source": [
    "intcode_computer(x_5[0])"
   ]
  },
  {
   "cell_type": "markdown",
   "metadata": {},
   "source": [
    "### Day 6: Universal Orbit Map Part 1"
   ]
  },
  {
   "cell_type": "code",
   "execution_count": 137,
   "metadata": {},
   "outputs": [],
   "source": [
    "x_6 = pd.read_csv('./datasets/Day 6 input.csv', header=None)"
   ]
  },
  {
   "cell_type": "code",
   "execution_count": 39,
   "metadata": {},
   "outputs": [
    {
     "data": {
      "text/html": [
       "<div>\n",
       "<style scoped>\n",
       "    .dataframe tbody tr th:only-of-type {\n",
       "        vertical-align: middle;\n",
       "    }\n",
       "\n",
       "    .dataframe tbody tr th {\n",
       "        vertical-align: top;\n",
       "    }\n",
       "\n",
       "    .dataframe thead th {\n",
       "        text-align: right;\n",
       "    }\n",
       "</style>\n",
       "<table border=\"1\" class=\"dataframe\">\n",
       "  <thead>\n",
       "    <tr style=\"text-align: right;\">\n",
       "      <th></th>\n",
       "      <th>0</th>\n",
       "    </tr>\n",
       "  </thead>\n",
       "  <tbody>\n",
       "    <tr>\n",
       "      <td>0</td>\n",
       "      <td>Z52)127</td>\n",
       "    </tr>\n",
       "    <tr>\n",
       "      <td>1</td>\n",
       "      <td>271)7TV</td>\n",
       "    </tr>\n",
       "    <tr>\n",
       "      <td>2</td>\n",
       "      <td>CJN)HYP</td>\n",
       "    </tr>\n",
       "    <tr>\n",
       "      <td>3</td>\n",
       "      <td>TCQ)65C</td>\n",
       "    </tr>\n",
       "    <tr>\n",
       "      <td>4</td>\n",
       "      <td>2R9)6QM</td>\n",
       "    </tr>\n",
       "  </tbody>\n",
       "</table>\n",
       "</div>"
      ],
      "text/plain": [
       "         0\n",
       "0  Z52)127\n",
       "1  271)7TV\n",
       "2  CJN)HYP\n",
       "3  TCQ)65C\n",
       "4  2R9)6QM"
      ]
     },
     "execution_count": 39,
     "metadata": {},
     "output_type": "execute_result"
    }
   ],
   "source": [
    "x_6.head()"
   ]
  },
  {
   "cell_type": "code",
   "execution_count": 220,
   "metadata": {},
   "outputs": [],
   "source": [
    "\n",
    "def orbit_count(data):\n",
    "    count = 0\n",
    "    tally = 0\n",
    "    lists = []\n",
    "    planet_list = list(data.str.split(\")\", expand=True)[1])\n",
    "    duo_list = data.to_list()\n",
    "    \n",
    "    while count < len(data):\n",
    "        \n",
    "        for duo in duo_list:\n",
    "            not_in_list = 0\n",
    "\n",
    "            for orbit_list in lists:\n",
    "                if orbit_list[-1] == duo[:3]:               ## checking to find a list that can be added to the end\n",
    "                    orbit_list.append(duo[4:])\n",
    "                    tally += (len(orbit_list)-1)\n",
    "                    count += 1\n",
    "\n",
    "                elif duo[:3] in orbit_list:                 ## creation of a new list from a slice\n",
    "                    list_ref = orbit_list.index(duo[:3])+1\n",
    "                    sliced_list = orbit_list[:list_ref]\n",
    "                    sliced_list.append(duo[4:])\n",
    "                    lists.append(sliced_list)\n",
    "                    tally += (len(sliced_list)-1)\n",
    "                    count += 1\n",
    "                    break\n",
    "                else:\n",
    "                    not_in_list += 1\n",
    "                    \n",
    "                                                            ## check to see if new list is needed to be created             \n",
    "            if len(lists) == not_in_list:\n",
    "                if duo[:3] in planet_list:\n",
    "                    duo_list.append(duo)\n",
    "                else:\n",
    "                    new_list = [duo[:3],duo[4:]]\n",
    "                    lists.append(new_list) \n",
    "                    tally += 1\n",
    "                    count += 1\n",
    "                \n",
    "            duo_list.remove(duo)    \n",
    "\n",
    "\n",
    "\n",
    "    return lists\n",
    "    print(tally)           \n",
    "                "
   ]
  },
  {
   "cell_type": "code",
   "execution_count": 199,
   "metadata": {},
   "outputs": [],
   "source": [
    "test = ['COM)BBB',\n",
    "'BBB)CCC',\n",
    "'CCC)DDD',\n",
    "'DDD)EEE',\n",
    "'EEE)FFF',\n",
    "'BBB)GGG',\n",
    "'GGG)HHH',\n",
    "'DDD)III',\n",
    "'EEE)JJJ',\n",
    "'JJJ)KKK',\n",
    "'KKK)LLL']"
   ]
  },
  {
   "cell_type": "code",
   "execution_count": 212,
   "metadata": {},
   "outputs": [],
   "source": [
    "test_df = pd.DataFrame(test)"
   ]
  },
  {
   "cell_type": "code",
   "execution_count": 213,
   "metadata": {},
   "outputs": [
    {
     "name": "stdout",
     "output_type": "stream",
     "text": [
      "[['COM', 'BBB', 'CCC', 'DDD', 'III'], ['COM', 'BBB', 'GGG', 'HHH'], ['COM', 'BBB', 'CCC', 'DDD', 'EEE', 'FFF'], ['COM', 'BBB', 'CCC', 'DDD', 'EEE', 'JJJ', 'KKK', 'LLL']]\n",
      "42\n"
     ]
    }
   ],
   "source": [
    "orbit_count(test_df[0])"
   ]
  },
  {
   "cell_type": "code",
   "execution_count": 216,
   "metadata": {},
   "outputs": [
    {
     "name": "stdout",
     "output_type": "stream",
     "text": [
      "117672\n"
     ]
    }
   ],
   "source": [
    "orbit_count(x_6[0])"
   ]
  },
  {
   "cell_type": "markdown",
   "metadata": {},
   "source": [
    "Guessed : 1571, too low\n",
    "          15460, too low\n",
    "          117672, correct!"
   ]
  },
  {
   "cell_type": "markdown",
   "metadata": {},
   "source": [
    "### Day 6: Universal Orbit Map Part 2"
   ]
  },
  {
   "cell_type": "code",
   "execution_count": 221,
   "metadata": {},
   "outputs": [],
   "source": [
    "all_lists = orbit_count(x_6[0])"
   ]
  },
  {
   "cell_type": "code",
   "execution_count": 248,
   "metadata": {},
   "outputs": [],
   "source": [
    "def transfer_count(lists):\n",
    "    for ls in lists:\n",
    "        if ls[-1] == 'YOU':\n",
    "            you_list = ls\n",
    "        elif ls[-1] == 'SAN':\n",
    "            santa_list = ls\n",
    "        else:\n",
    "            pass\n",
    "    count = 0    \n",
    "    for i in zip(you_list,santa_list):\n",
    "        if i[0] == i[1]:\n",
    "            count += 1\n",
    "    \n",
    "    final_count = len(you_list) + len(santa_list) - (2*count) - 2\n",
    "\n",
    "    print(final_count)"
   ]
  },
  {
   "cell_type": "code",
   "execution_count": 249,
   "metadata": {},
   "outputs": [
    {
     "name": "stdout",
     "output_type": "stream",
     "text": [
      "277\n"
     ]
    }
   ],
   "source": [
    "transfer_count(all_lists)"
   ]
  },
  {
   "cell_type": "markdown",
   "metadata": {},
   "source": [
    "### Day 7: Amplification Circuit Part 1"
   ]
  },
  {
   "cell_type": "code",
   "execution_count": 130,
   "metadata": {},
   "outputs": [],
   "source": [
    "x_7 = pd.read_csv('./datasets/Day 7 input.csv', header=None)"
   ]
  },
  {
   "cell_type": "code",
   "execution_count": 141,
   "metadata": {},
   "outputs": [],
   "source": [
    "def intcode_computer2(data,phase_setting,input_value):\n",
    "    \n",
    "#     input_value = int(input(\"Input system ID: \"))\n",
    "    op_code_index = 0 #instruction pointer\n",
    "    output = 0\n",
    "    inputs = phase_setting\n",
    "    \n",
    "    while str(data[op_code_index])[-2:] != '99':\n",
    "        \n",
    "        op_code = str(data[op_code_index])[-1:]  #op code number\n",
    "        A_mode = str(data[op_code_index])[-3:-2] #parameter one mode\n",
    "        B_mode = str(data[op_code_index])[-4:-3] #parameter two mode\n",
    "        C_mode = str(data[op_code_index])[-5:-4] #parameter three mode\n",
    "        \n",
    "        ### Parameter one\n",
    "        a = data[op_code_index+1]\n",
    "        \n",
    "        ### Instruction 3 is the only 'writing instruction so isn't affected by modes\n",
    "        if int(op_code) == 3:\n",
    "            data[a] = inputs\n",
    "            inputs = input_value\n",
    "            op_code_index += 2\n",
    "              \n",
    "        else:\n",
    "    \n",
    "            ### mode adjustments\n",
    "            if A_mode != '1':                   #parameter one\n",
    "                a = data[data[op_code_index+1]]\n",
    "            try:\n",
    "                b = data[op_code_index+2]\n",
    "                c = data[op_code_index+3]\n",
    "                if B_mode != '1':               #parameter two\n",
    "                    b = data[data[op_code_index+2]]    \n",
    "            except IndexError as target:\n",
    "                pass\n",
    "    \n",
    "            \n",
    "            ### Instructions 1, 2, 5, 6, 7, 8\n",
    "            if int(op_code) == 1:\n",
    "                data[c] = a+b\n",
    "                op_code_index += 4  \n",
    "            \n",
    "            elif int(op_code) == 2:\n",
    "                data[c] = a*b\n",
    "                op_code_index += 4 \n",
    "                \n",
    "            elif int(op_code) == 4:\n",
    "                output = a\n",
    "                op_code_index += 2   \n",
    "                \n",
    "            elif int(op_code) == 5:      \n",
    "                if a != 0:\n",
    "                    op_code_index = b\n",
    "                else:\n",
    "                    op_code_index += 3 \n",
    "                    \n",
    "            elif int(op_code) == 6:\n",
    "                if a == 0:\n",
    "                    op_code_index = b   \n",
    "                else:\n",
    "                    op_code_index += 3    \n",
    "                    \n",
    "            elif int(op_code) == 7:       \n",
    "                if a < b:\n",
    "                    data[c] = 1\n",
    "                else:\n",
    "                    data[c] = 0\n",
    "                op_code_index += 4\n",
    "                \n",
    "            elif int(op_code) == 8:    \n",
    "                if a == b:\n",
    "                    data[c] = 1\n",
    "                else:\n",
    "                    data[c] = 0    \n",
    "                op_code_index += 4\n",
    "                \n",
    "            else:\n",
    "                print('something went wrong')\n",
    "            \n",
    "#         print(op_code)\n",
    "#         print(op_code_index)\n",
    "#         print(data)\n",
    "    return output"
   ]
  },
  {
   "cell_type": "code",
   "execution_count": null,
   "metadata": {},
   "outputs": [],
   "source": [
    "intcode_computer(test,4)\n",
    "intcode_computer2(data,phase_setting,input_value)"
   ]
  },
  {
   "cell_type": "code",
   "execution_count": null,
   "metadata": {},
   "outputs": [],
   "source": [
    "# Max thruster signal 43210 (from phase setting sequence 4,3,2,1,0):\n",
    "\n",
    "# 3,15,3,16,1002,`16,10,16,1,16,15,15,4,15,99,0,0"
   ]
  },
  {
   "cell_type": "code",
   "execution_count": 149,
   "metadata": {},
   "outputs": [],
   "source": [
    "test_1 = [3,31,3,32,1002,32,10,32,1001,31,-2,31,1007,31,0,33,1002,33,7,33,1,33,31,31,1,32,31,31,4,31,99,0,0,0]\n",
    "test_1_seq = [1,0,4,3,2]"
   ]
  },
  {
   "cell_type": "code",
   "execution_count": 150,
   "metadata": {},
   "outputs": [],
   "source": [
    "def amplifiers(data,phase_sequence):\n",
    "    A_output = intcode_computer2(data,phase_sequence[0],0)\n",
    "    B_output = intcode_computer2(data,phase_sequence[1],A_output)\n",
    "    C_output = intcode_computer2(data,phase_sequence[2],B_output)\n",
    "    D_output = intcode_computer2(data,phase_sequence[3],C_output)\n",
    "    E_output = intcode_computer2(data,phase_sequence[4],D_output)\n",
    "    return E_output    "
   ]
  },
  {
   "cell_type": "code",
   "execution_count": 151,
   "metadata": {},
   "outputs": [
    {
     "data": {
      "text/plain": [
       "65210"
      ]
     },
     "execution_count": 151,
     "metadata": {},
     "output_type": "execute_result"
    }
   ],
   "source": [
    "amplifiers(test_1,test_1_seq)"
   ]
  },
  {
   "cell_type": "code",
   "execution_count": 152,
   "metadata": {},
   "outputs": [],
   "source": [
    "from itertools import permutations"
   ]
  },
  {
   "cell_type": "code",
   "execution_count": 174,
   "metadata": {},
   "outputs": [
    {
     "name": "stdout",
     "output_type": "stream",
     "text": [
      "(0, 1, 2)\n",
      "(0, 2, 1)\n",
      "(1, 0, 2)\n",
      "(1, 2, 0)\n",
      "(2, 0, 1)\n",
      "(2, 1, 0)\n"
     ]
    }
   ],
   "source": [
    "for i in permutations(range(0,3)):\n",
    "    print(i)"
   ]
  },
  {
   "cell_type": "code",
   "execution_count": 170,
   "metadata": {},
   "outputs": [],
   "source": [
    "def max_thrusters(data):\n",
    "    thrusts = []\n",
    "    for i in permutations(range(0,5)):\n",
    "        thrusts.append(amplifiers(data,i))\n",
    "    max_thrust = max(thrusts)    \n",
    "        \n",
    "    return max_thrust   \n",
    "    "
   ]
  },
  {
   "cell_type": "code",
   "execution_count": 172,
   "metadata": {},
   "outputs": [
    {
     "data": {
      "text/plain": [
       "398674"
      ]
     },
     "execution_count": 172,
     "metadata": {},
     "output_type": "execute_result"
    }
   ],
   "source": [
    "max_thrusters(x_7[0])"
   ]
  },
  {
   "cell_type": "markdown",
   "metadata": {},
   "source": [
    "### Day 7: Amplification Circuit Part 2"
   ]
  },
  {
   "cell_type": "code",
   "execution_count": null,
   "metadata": {},
   "outputs": [],
   "source": [
    "def max_thrusters_2(data):\n",
    "    thrusts = []\n",
    "    for i in permutations(range(5,10)):\n",
    "        thrusts.append(amplifiers(data,i))\n",
    "    max_thrust = max(thrusts)    \n",
    "        \n",
    "    return max_thrust   \n",
    "    "
   ]
  },
  {
   "cell_type": "code",
   "execution_count": null,
   "metadata": {},
   "outputs": [],
   "source": []
  },
  {
   "cell_type": "code",
   "execution_count": null,
   "metadata": {},
   "outputs": [],
   "source": []
  },
  {
   "cell_type": "code",
   "execution_count": null,
   "metadata": {},
   "outputs": [],
   "source": []
  },
  {
   "cell_type": "markdown",
   "metadata": {},
   "source": [
    "### Day 8: Space Image Format Part 1"
   ]
  },
  {
   "cell_type": "code",
   "execution_count": 3,
   "metadata": {},
   "outputs": [],
   "source": [
    "x_8 = pd.read_csv('./datasets/Day 8 input.csv', header=None)"
   ]
  },
  {
   "cell_type": "code",
   "execution_count": 4,
   "metadata": {},
   "outputs": [],
   "source": [
    "numbers = x_8[0][0]"
   ]
  },
  {
   "cell_type": "code",
   "execution_count": 22,
   "metadata": {},
   "outputs": [],
   "source": [
    "# numbers"
   ]
  },
  {
   "cell_type": "code",
   "execution_count": 5,
   "metadata": {},
   "outputs": [],
   "source": [
    "chunks, chunk_size = len(numbers), 150\n",
    "layers = [numbers[i:i+chunk_size] for i in range(0, chunks, chunk_size)]"
   ]
  },
  {
   "cell_type": "code",
   "execution_count": 94,
   "metadata": {},
   "outputs": [
    {
     "name": "stdout",
     "output_type": "stream",
     "text": [
      "1215\n"
     ]
    }
   ],
   "source": [
    "zero_count = 150\n",
    "for layer in layers:\n",
    "    if layer.count('0') < zero_count:\n",
    "        zero_count = layer.count('0')\n",
    "        answer = layer.count('1') * layer.count('2')\n",
    "print(answer)    "
   ]
  },
  {
   "cell_type": "markdown",
   "metadata": {},
   "source": [
    "### Day 8: Space Image Format Part 2"
   ]
  },
  {
   "cell_type": "code",
   "execution_count": 9,
   "metadata": {},
   "outputs": [
    {
     "data": {
      "text/plain": [
       "'2'"
      ]
     },
     "execution_count": 9,
     "metadata": {},
     "output_type": "execute_result"
    }
   ],
   "source": [
    "layers[0][0]"
   ]
  },
  {
   "cell_type": "code",
   "execution_count": 7,
   "metadata": {},
   "outputs": [
    {
     "data": {
      "text/plain": [
       "150"
      ]
     },
     "execution_count": 7,
     "metadata": {},
     "output_type": "execute_result"
    }
   ],
   "source": [
    "len(layers[0])"
   ]
  },
  {
   "cell_type": "code",
   "execution_count": 24,
   "metadata": {},
   "outputs": [],
   "source": [
    "final_layer = []\n",
    "for i in range(0,150):\n",
    "    for layer in layers:\n",
    "        if layer[i] == '0':\n",
    "            final_layer.append('-')\n",
    "            break\n",
    "        elif layer[i] == '1':    \n",
    "            final_layer.append('O')\n",
    "            break\n",
    "        else:\n",
    "            pass"
   ]
  },
  {
   "cell_type": "code",
   "execution_count": 14,
   "metadata": {},
   "outputs": [
    {
     "data": {
      "text/plain": [
       "150"
      ]
     },
     "execution_count": 14,
     "metadata": {},
     "output_type": "execute_result"
    }
   ],
   "source": [
    "len(final_layer)"
   ]
  },
  {
   "cell_type": "code",
   "execution_count": 25,
   "metadata": {},
   "outputs": [],
   "source": [
    "fl_chunks, fl_chunk_size = len(final_layer), 25\n",
    "final = [final_layer[i:i+fl_chunk_size] for i in range(0, fl_chunks, fl_chunk_size)]"
   ]
  },
  {
   "cell_type": "code",
   "execution_count": 26,
   "metadata": {},
   "outputs": [],
   "source": [
    "df = pd.DataFrame(final)"
   ]
  },
  {
   "cell_type": "code",
   "execution_count": 27,
   "metadata": {},
   "outputs": [],
   "source": [
    "pd.set_option('display.max_columns', 25)"
   ]
  },
  {
   "cell_type": "code",
   "execution_count": 28,
   "metadata": {},
   "outputs": [
    {
     "data": {
      "text/html": [
       "<div>\n",
       "<style scoped>\n",
       "    .dataframe tbody tr th:only-of-type {\n",
       "        vertical-align: middle;\n",
       "    }\n",
       "\n",
       "    .dataframe tbody tr th {\n",
       "        vertical-align: top;\n",
       "    }\n",
       "\n",
       "    .dataframe thead th {\n",
       "        text-align: right;\n",
       "    }\n",
       "</style>\n",
       "<table border=\"1\" class=\"dataframe\">\n",
       "  <thead>\n",
       "    <tr style=\"text-align: right;\">\n",
       "      <th></th>\n",
       "      <th>0</th>\n",
       "      <th>1</th>\n",
       "      <th>2</th>\n",
       "      <th>3</th>\n",
       "      <th>4</th>\n",
       "      <th>5</th>\n",
       "      <th>6</th>\n",
       "      <th>7</th>\n",
       "      <th>8</th>\n",
       "      <th>9</th>\n",
       "      <th>10</th>\n",
       "      <th>11</th>\n",
       "      <th>12</th>\n",
       "      <th>13</th>\n",
       "      <th>14</th>\n",
       "      <th>15</th>\n",
       "      <th>16</th>\n",
       "      <th>17</th>\n",
       "      <th>18</th>\n",
       "      <th>19</th>\n",
       "      <th>20</th>\n",
       "      <th>21</th>\n",
       "      <th>22</th>\n",
       "      <th>23</th>\n",
       "      <th>24</th>\n",
       "    </tr>\n",
       "  </thead>\n",
       "  <tbody>\n",
       "    <tr>\n",
       "      <td>0</td>\n",
       "      <td>O</td>\n",
       "      <td>-</td>\n",
       "      <td>-</td>\n",
       "      <td>-</td>\n",
       "      <td>-</td>\n",
       "      <td>O</td>\n",
       "      <td>-</td>\n",
       "      <td>-</td>\n",
       "      <td>O</td>\n",
       "      <td>-</td>\n",
       "      <td>-</td>\n",
       "      <td>O</td>\n",
       "      <td>O</td>\n",
       "      <td>-</td>\n",
       "      <td>-</td>\n",
       "      <td>O</td>\n",
       "      <td>O</td>\n",
       "      <td>O</td>\n",
       "      <td>-</td>\n",
       "      <td>-</td>\n",
       "      <td>O</td>\n",
       "      <td>-</td>\n",
       "      <td>-</td>\n",
       "      <td>O</td>\n",
       "      <td>-</td>\n",
       "    </tr>\n",
       "    <tr>\n",
       "      <td>1</td>\n",
       "      <td>O</td>\n",
       "      <td>-</td>\n",
       "      <td>-</td>\n",
       "      <td>-</td>\n",
       "      <td>-</td>\n",
       "      <td>O</td>\n",
       "      <td>-</td>\n",
       "      <td>-</td>\n",
       "      <td>O</td>\n",
       "      <td>-</td>\n",
       "      <td>O</td>\n",
       "      <td>-</td>\n",
       "      <td>-</td>\n",
       "      <td>O</td>\n",
       "      <td>-</td>\n",
       "      <td>O</td>\n",
       "      <td>-</td>\n",
       "      <td>-</td>\n",
       "      <td>O</td>\n",
       "      <td>-</td>\n",
       "      <td>O</td>\n",
       "      <td>-</td>\n",
       "      <td>-</td>\n",
       "      <td>O</td>\n",
       "      <td>-</td>\n",
       "    </tr>\n",
       "    <tr>\n",
       "      <td>2</td>\n",
       "      <td>O</td>\n",
       "      <td>-</td>\n",
       "      <td>-</td>\n",
       "      <td>-</td>\n",
       "      <td>-</td>\n",
       "      <td>O</td>\n",
       "      <td>O</td>\n",
       "      <td>O</td>\n",
       "      <td>O</td>\n",
       "      <td>-</td>\n",
       "      <td>O</td>\n",
       "      <td>-</td>\n",
       "      <td>-</td>\n",
       "      <td>-</td>\n",
       "      <td>-</td>\n",
       "      <td>O</td>\n",
       "      <td>-</td>\n",
       "      <td>-</td>\n",
       "      <td>O</td>\n",
       "      <td>-</td>\n",
       "      <td>O</td>\n",
       "      <td>O</td>\n",
       "      <td>O</td>\n",
       "      <td>O</td>\n",
       "      <td>-</td>\n",
       "    </tr>\n",
       "    <tr>\n",
       "      <td>3</td>\n",
       "      <td>O</td>\n",
       "      <td>-</td>\n",
       "      <td>-</td>\n",
       "      <td>-</td>\n",
       "      <td>-</td>\n",
       "      <td>O</td>\n",
       "      <td>-</td>\n",
       "      <td>-</td>\n",
       "      <td>O</td>\n",
       "      <td>-</td>\n",
       "      <td>O</td>\n",
       "      <td>-</td>\n",
       "      <td>-</td>\n",
       "      <td>-</td>\n",
       "      <td>-</td>\n",
       "      <td>O</td>\n",
       "      <td>O</td>\n",
       "      <td>O</td>\n",
       "      <td>-</td>\n",
       "      <td>-</td>\n",
       "      <td>O</td>\n",
       "      <td>-</td>\n",
       "      <td>-</td>\n",
       "      <td>O</td>\n",
       "      <td>-</td>\n",
       "    </tr>\n",
       "    <tr>\n",
       "      <td>4</td>\n",
       "      <td>O</td>\n",
       "      <td>-</td>\n",
       "      <td>-</td>\n",
       "      <td>-</td>\n",
       "      <td>-</td>\n",
       "      <td>O</td>\n",
       "      <td>-</td>\n",
       "      <td>-</td>\n",
       "      <td>O</td>\n",
       "      <td>-</td>\n",
       "      <td>O</td>\n",
       "      <td>-</td>\n",
       "      <td>-</td>\n",
       "      <td>O</td>\n",
       "      <td>-</td>\n",
       "      <td>O</td>\n",
       "      <td>-</td>\n",
       "      <td>-</td>\n",
       "      <td>-</td>\n",
       "      <td>-</td>\n",
       "      <td>O</td>\n",
       "      <td>-</td>\n",
       "      <td>-</td>\n",
       "      <td>O</td>\n",
       "      <td>-</td>\n",
       "    </tr>\n",
       "    <tr>\n",
       "      <td>5</td>\n",
       "      <td>O</td>\n",
       "      <td>O</td>\n",
       "      <td>O</td>\n",
       "      <td>O</td>\n",
       "      <td>-</td>\n",
       "      <td>O</td>\n",
       "      <td>-</td>\n",
       "      <td>-</td>\n",
       "      <td>O</td>\n",
       "      <td>-</td>\n",
       "      <td>-</td>\n",
       "      <td>O</td>\n",
       "      <td>O</td>\n",
       "      <td>-</td>\n",
       "      <td>-</td>\n",
       "      <td>O</td>\n",
       "      <td>-</td>\n",
       "      <td>-</td>\n",
       "      <td>-</td>\n",
       "      <td>-</td>\n",
       "      <td>O</td>\n",
       "      <td>-</td>\n",
       "      <td>-</td>\n",
       "      <td>O</td>\n",
       "      <td>-</td>\n",
       "    </tr>\n",
       "  </tbody>\n",
       "</table>\n",
       "</div>"
      ],
      "text/plain": [
       "   0  1  2  3  4  5  6  7  8  9 10 11 12 13 14 15 16 17 18 19 20 21 22 23 24\n",
       "0  O  -  -  -  -  O  -  -  O  -  -  O  O  -  -  O  O  O  -  -  O  -  -  O  -\n",
       "1  O  -  -  -  -  O  -  -  O  -  O  -  -  O  -  O  -  -  O  -  O  -  -  O  -\n",
       "2  O  -  -  -  -  O  O  O  O  -  O  -  -  -  -  O  -  -  O  -  O  O  O  O  -\n",
       "3  O  -  -  -  -  O  -  -  O  -  O  -  -  -  -  O  O  O  -  -  O  -  -  O  -\n",
       "4  O  -  -  -  -  O  -  -  O  -  O  -  -  O  -  O  -  -  -  -  O  -  -  O  -\n",
       "5  O  O  O  O  -  O  -  -  O  -  -  O  O  -  -  O  -  -  -  -  O  -  -  O  -"
      ]
     },
     "execution_count": 28,
     "metadata": {},
     "output_type": "execute_result"
    }
   ],
   "source": [
    "df"
   ]
  },
  {
   "cell_type": "code",
   "execution_count": null,
   "metadata": {},
   "outputs": [],
   "source": []
  }
 ],
 "metadata": {
  "kernelspec": {
   "display_name": "Python 3",
   "language": "python",
   "name": "python3"
  },
  "language_info": {
   "codemirror_mode": {
    "name": "ipython",
    "version": 3
   },
   "file_extension": ".py",
   "mimetype": "text/x-python",
   "name": "python",
   "nbconvert_exporter": "python",
   "pygments_lexer": "ipython3",
   "version": "3.7.4"
  },
  "toc": {
   "base_numbering": 1,
   "nav_menu": {},
   "number_sections": true,
   "sideBar": true,
   "skip_h1_title": false,
   "title_cell": "Table of Contents",
   "title_sidebar": "Contents",
   "toc_cell": false,
   "toc_position": {
    "height": "calc(100% - 180px)",
    "left": "10px",
    "top": "150px",
    "width": "283px"
   },
   "toc_section_display": true,
   "toc_window_display": false
  }
 },
 "nbformat": 4,
 "nbformat_minor": 2
}
